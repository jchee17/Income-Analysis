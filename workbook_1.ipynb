{
 "cells": [
  {
   "cell_type": "code",
   "execution_count": 2,
   "metadata": {
    "collapsed": false
   },
   "outputs": [],
   "source": [
    "import pandas as pd\n",
    "import numpy as np\n",
    "from sklearn import preprocessing\n",
    "from sklearn.cross_validation import train_test_split\n",
    "from sklearn import linear_model, datasets\n",
    "from sklearn import metrics\n",
    "from sklearn.cross_validation import cross_val_score\n",
    "import matplotlib.pyplot as plt\n",
    "#from ggplot import *\n",
    "%matplotlib inline\n",
    "\n",
    "# set max row display\n",
    "#pd.set_option('display.max_row', 1000)\n",
    "\n",
    "# set max column width to 50\n",
    "#pd.set_option('display.max_columns', 50)"
   ]
  },
  {
   "cell_type": "code",
   "execution_count": 3,
   "metadata": {
    "collapsed": false
   },
   "outputs": [
    {
     "ename": "IOError",
     "evalue": "File adult.txt does not exist",
     "output_type": "error",
     "traceback": [
      "\u001b[1;31m---------------------------------------------------------------------------\u001b[0m",
      "\u001b[1;31mIOError\u001b[0m                                   Traceback (most recent call last)",
      "\u001b[1;32m<ipython-input-3-49237a404093>\u001b[0m in \u001b[0;36m<module>\u001b[1;34m()\u001b[0m\n\u001b[0;32m      1\u001b[0m adult = pd.read_csv('adult.txt', names=['age','workclass','fnlwgt','education','education-num','marital-status',\n\u001b[0;32m      2\u001b[0m                                        \u001b[1;34m'occupation'\u001b[0m\u001b[1;33m,\u001b[0m\u001b[1;34m'relationship'\u001b[0m\u001b[1;33m,\u001b[0m\u001b[1;34m'race'\u001b[0m\u001b[1;33m,\u001b[0m\u001b[1;34m'sex'\u001b[0m\u001b[1;33m,\u001b[0m\u001b[1;34m'capital-gain'\u001b[0m\u001b[1;33m,\u001b[0m\u001b[1;34m'captial-loss'\u001b[0m\u001b[1;33m,\u001b[0m\u001b[1;33m\u001b[0m\u001b[0m\n\u001b[1;32m----> 3\u001b[1;33m                                        'hours-per-week','native-country','income'])\n\u001b[0m",
      "\u001b[1;32m/home/jerry/anaconda2/lib/python2.7/site-packages/pandas/io/parsers.py\u001b[0m in \u001b[0;36mparser_f\u001b[1;34m(filepath_or_buffer, sep, delimiter, header, names, index_col, usecols, squeeze, prefix, mangle_dupe_cols, dtype, engine, converters, true_values, false_values, skipinitialspace, skiprows, skipfooter, nrows, na_values, keep_default_na, na_filter, verbose, skip_blank_lines, parse_dates, infer_datetime_format, keep_date_col, date_parser, dayfirst, iterator, chunksize, compression, thousands, decimal, lineterminator, quotechar, quoting, escapechar, comment, encoding, dialect, tupleize_cols, error_bad_lines, warn_bad_lines, skip_footer, doublequote, delim_whitespace, as_recarray, compact_ints, use_unsigned, low_memory, buffer_lines, memory_map, float_precision)\u001b[0m\n\u001b[0;32m    560\u001b[0m                     skip_blank_lines=skip_blank_lines)\n\u001b[0;32m    561\u001b[0m \u001b[1;33m\u001b[0m\u001b[0m\n\u001b[1;32m--> 562\u001b[1;33m         \u001b[1;32mreturn\u001b[0m \u001b[0m_read\u001b[0m\u001b[1;33m(\u001b[0m\u001b[0mfilepath_or_buffer\u001b[0m\u001b[1;33m,\u001b[0m \u001b[0mkwds\u001b[0m\u001b[1;33m)\u001b[0m\u001b[1;33m\u001b[0m\u001b[0m\n\u001b[0m\u001b[0;32m    563\u001b[0m \u001b[1;33m\u001b[0m\u001b[0m\n\u001b[0;32m    564\u001b[0m     \u001b[0mparser_f\u001b[0m\u001b[1;33m.\u001b[0m\u001b[0m__name__\u001b[0m \u001b[1;33m=\u001b[0m \u001b[0mname\u001b[0m\u001b[1;33m\u001b[0m\u001b[0m\n",
      "\u001b[1;32m/home/jerry/anaconda2/lib/python2.7/site-packages/pandas/io/parsers.py\u001b[0m in \u001b[0;36m_read\u001b[1;34m(filepath_or_buffer, kwds)\u001b[0m\n\u001b[0;32m    313\u001b[0m \u001b[1;33m\u001b[0m\u001b[0m\n\u001b[0;32m    314\u001b[0m     \u001b[1;31m# Create the parser.\u001b[0m\u001b[1;33m\u001b[0m\u001b[1;33m\u001b[0m\u001b[0m\n\u001b[1;32m--> 315\u001b[1;33m     \u001b[0mparser\u001b[0m \u001b[1;33m=\u001b[0m \u001b[0mTextFileReader\u001b[0m\u001b[1;33m(\u001b[0m\u001b[0mfilepath_or_buffer\u001b[0m\u001b[1;33m,\u001b[0m \u001b[1;33m**\u001b[0m\u001b[0mkwds\u001b[0m\u001b[1;33m)\u001b[0m\u001b[1;33m\u001b[0m\u001b[0m\n\u001b[0m\u001b[0;32m    316\u001b[0m \u001b[1;33m\u001b[0m\u001b[0m\n\u001b[0;32m    317\u001b[0m     \u001b[1;32mif\u001b[0m \u001b[1;33m(\u001b[0m\u001b[0mnrows\u001b[0m \u001b[1;32mis\u001b[0m \u001b[1;32mnot\u001b[0m \u001b[0mNone\u001b[0m\u001b[1;33m)\u001b[0m \u001b[1;32mand\u001b[0m \u001b[1;33m(\u001b[0m\u001b[0mchunksize\u001b[0m \u001b[1;32mis\u001b[0m \u001b[1;32mnot\u001b[0m \u001b[0mNone\u001b[0m\u001b[1;33m)\u001b[0m\u001b[1;33m:\u001b[0m\u001b[1;33m\u001b[0m\u001b[0m\n",
      "\u001b[1;32m/home/jerry/anaconda2/lib/python2.7/site-packages/pandas/io/parsers.py\u001b[0m in \u001b[0;36m__init__\u001b[1;34m(self, f, engine, **kwds)\u001b[0m\n\u001b[0;32m    643\u001b[0m             \u001b[0mself\u001b[0m\u001b[1;33m.\u001b[0m\u001b[0moptions\u001b[0m\u001b[1;33m[\u001b[0m\u001b[1;34m'has_index_names'\u001b[0m\u001b[1;33m]\u001b[0m \u001b[1;33m=\u001b[0m \u001b[0mkwds\u001b[0m\u001b[1;33m[\u001b[0m\u001b[1;34m'has_index_names'\u001b[0m\u001b[1;33m]\u001b[0m\u001b[1;33m\u001b[0m\u001b[0m\n\u001b[0;32m    644\u001b[0m \u001b[1;33m\u001b[0m\u001b[0m\n\u001b[1;32m--> 645\u001b[1;33m         \u001b[0mself\u001b[0m\u001b[1;33m.\u001b[0m\u001b[0m_make_engine\u001b[0m\u001b[1;33m(\u001b[0m\u001b[0mself\u001b[0m\u001b[1;33m.\u001b[0m\u001b[0mengine\u001b[0m\u001b[1;33m)\u001b[0m\u001b[1;33m\u001b[0m\u001b[0m\n\u001b[0m\u001b[0;32m    646\u001b[0m \u001b[1;33m\u001b[0m\u001b[0m\n\u001b[0;32m    647\u001b[0m     \u001b[1;32mdef\u001b[0m \u001b[0mclose\u001b[0m\u001b[1;33m(\u001b[0m\u001b[0mself\u001b[0m\u001b[1;33m)\u001b[0m\u001b[1;33m:\u001b[0m\u001b[1;33m\u001b[0m\u001b[0m\n",
      "\u001b[1;32m/home/jerry/anaconda2/lib/python2.7/site-packages/pandas/io/parsers.py\u001b[0m in \u001b[0;36m_make_engine\u001b[1;34m(self, engine)\u001b[0m\n\u001b[0;32m    797\u001b[0m     \u001b[1;32mdef\u001b[0m \u001b[0m_make_engine\u001b[0m\u001b[1;33m(\u001b[0m\u001b[0mself\u001b[0m\u001b[1;33m,\u001b[0m \u001b[0mengine\u001b[0m\u001b[1;33m=\u001b[0m\u001b[1;34m'c'\u001b[0m\u001b[1;33m)\u001b[0m\u001b[1;33m:\u001b[0m\u001b[1;33m\u001b[0m\u001b[0m\n\u001b[0;32m    798\u001b[0m         \u001b[1;32mif\u001b[0m \u001b[0mengine\u001b[0m \u001b[1;33m==\u001b[0m \u001b[1;34m'c'\u001b[0m\u001b[1;33m:\u001b[0m\u001b[1;33m\u001b[0m\u001b[0m\n\u001b[1;32m--> 799\u001b[1;33m             \u001b[0mself\u001b[0m\u001b[1;33m.\u001b[0m\u001b[0m_engine\u001b[0m \u001b[1;33m=\u001b[0m \u001b[0mCParserWrapper\u001b[0m\u001b[1;33m(\u001b[0m\u001b[0mself\u001b[0m\u001b[1;33m.\u001b[0m\u001b[0mf\u001b[0m\u001b[1;33m,\u001b[0m \u001b[1;33m**\u001b[0m\u001b[0mself\u001b[0m\u001b[1;33m.\u001b[0m\u001b[0moptions\u001b[0m\u001b[1;33m)\u001b[0m\u001b[1;33m\u001b[0m\u001b[0m\n\u001b[0m\u001b[0;32m    800\u001b[0m         \u001b[1;32melse\u001b[0m\u001b[1;33m:\u001b[0m\u001b[1;33m\u001b[0m\u001b[0m\n\u001b[0;32m    801\u001b[0m             \u001b[1;32mif\u001b[0m \u001b[0mengine\u001b[0m \u001b[1;33m==\u001b[0m \u001b[1;34m'python'\u001b[0m\u001b[1;33m:\u001b[0m\u001b[1;33m\u001b[0m\u001b[0m\n",
      "\u001b[1;32m/home/jerry/anaconda2/lib/python2.7/site-packages/pandas/io/parsers.py\u001b[0m in \u001b[0;36m__init__\u001b[1;34m(self, src, **kwds)\u001b[0m\n\u001b[0;32m   1211\u001b[0m         \u001b[0mkwds\u001b[0m\u001b[1;33m[\u001b[0m\u001b[1;34m'allow_leading_cols'\u001b[0m\u001b[1;33m]\u001b[0m \u001b[1;33m=\u001b[0m \u001b[0mself\u001b[0m\u001b[1;33m.\u001b[0m\u001b[0mindex_col\u001b[0m \u001b[1;32mis\u001b[0m \u001b[1;32mnot\u001b[0m \u001b[0mFalse\u001b[0m\u001b[1;33m\u001b[0m\u001b[0m\n\u001b[0;32m   1212\u001b[0m \u001b[1;33m\u001b[0m\u001b[0m\n\u001b[1;32m-> 1213\u001b[1;33m         \u001b[0mself\u001b[0m\u001b[1;33m.\u001b[0m\u001b[0m_reader\u001b[0m \u001b[1;33m=\u001b[0m \u001b[0m_parser\u001b[0m\u001b[1;33m.\u001b[0m\u001b[0mTextReader\u001b[0m\u001b[1;33m(\u001b[0m\u001b[0msrc\u001b[0m\u001b[1;33m,\u001b[0m \u001b[1;33m**\u001b[0m\u001b[0mkwds\u001b[0m\u001b[1;33m)\u001b[0m\u001b[1;33m\u001b[0m\u001b[0m\n\u001b[0m\u001b[0;32m   1214\u001b[0m \u001b[1;33m\u001b[0m\u001b[0m\n\u001b[0;32m   1215\u001b[0m         \u001b[1;31m# XXX\u001b[0m\u001b[1;33m\u001b[0m\u001b[1;33m\u001b[0m\u001b[0m\n",
      "\u001b[1;32mpandas/parser.pyx\u001b[0m in \u001b[0;36mpandas.parser.TextReader.__cinit__ (pandas/parser.c:3427)\u001b[1;34m()\u001b[0m\n",
      "\u001b[1;32mpandas/parser.pyx\u001b[0m in \u001b[0;36mpandas.parser.TextReader._setup_parser_source (pandas/parser.c:6861)\u001b[1;34m()\u001b[0m\n",
      "\u001b[1;31mIOError\u001b[0m: File adult.txt does not exist"
     ]
    }
   ],
   "source": [
    "adult = pd.read_csv('adult.txt', names=['age','workclass','fnlwgt','education','education-num','marital-status',\n",
    "                                       'occupation','relationship','race','sex','capital-gain','captial-loss',\n",
    "                                       'hours-per-week','native-country','income'])"
   ]
  },
  {
   "cell_type": "code",
   "execution_count": 123,
   "metadata": {
    "collapsed": false
   },
   "outputs": [
    {
     "data": {
      "text/html": [
       "<div>\n",
       "<table border=\"1\" class=\"dataframe\">\n",
       "  <thead>\n",
       "    <tr style=\"text-align: right;\">\n",
       "      <th></th>\n",
       "      <th>age</th>\n",
       "      <th>workclass</th>\n",
       "      <th>fnlwgt</th>\n",
       "      <th>education</th>\n",
       "      <th>education-num</th>\n",
       "      <th>marital-status</th>\n",
       "      <th>occupation</th>\n",
       "      <th>relationship</th>\n",
       "      <th>race</th>\n",
       "      <th>sex</th>\n",
       "      <th>capital-gain</th>\n",
       "      <th>captial-loss</th>\n",
       "      <th>hours-per-week</th>\n",
       "      <th>native-country</th>\n",
       "      <th>income</th>\n",
       "    </tr>\n",
       "  </thead>\n",
       "  <tbody>\n",
       "    <tr>\n",
       "      <th>0</th>\n",
       "      <td>39</td>\n",
       "      <td>State-gov</td>\n",
       "      <td>77516</td>\n",
       "      <td>Bachelors</td>\n",
       "      <td>13</td>\n",
       "      <td>Never-married</td>\n",
       "      <td>Adm-clerical</td>\n",
       "      <td>Not-in-family</td>\n",
       "      <td>White</td>\n",
       "      <td>Male</td>\n",
       "      <td>2174</td>\n",
       "      <td>0</td>\n",
       "      <td>40</td>\n",
       "      <td>United-States</td>\n",
       "      <td>&lt;=50K</td>\n",
       "    </tr>\n",
       "    <tr>\n",
       "      <th>1</th>\n",
       "      <td>50</td>\n",
       "      <td>Self-emp-not-inc</td>\n",
       "      <td>83311</td>\n",
       "      <td>Bachelors</td>\n",
       "      <td>13</td>\n",
       "      <td>Married-civ-spouse</td>\n",
       "      <td>Exec-managerial</td>\n",
       "      <td>Husband</td>\n",
       "      <td>White</td>\n",
       "      <td>Male</td>\n",
       "      <td>0</td>\n",
       "      <td>0</td>\n",
       "      <td>13</td>\n",
       "      <td>United-States</td>\n",
       "      <td>&lt;=50K</td>\n",
       "    </tr>\n",
       "    <tr>\n",
       "      <th>2</th>\n",
       "      <td>38</td>\n",
       "      <td>Private</td>\n",
       "      <td>215646</td>\n",
       "      <td>HS-grad</td>\n",
       "      <td>9</td>\n",
       "      <td>Divorced</td>\n",
       "      <td>Handlers-cleaners</td>\n",
       "      <td>Not-in-family</td>\n",
       "      <td>White</td>\n",
       "      <td>Male</td>\n",
       "      <td>0</td>\n",
       "      <td>0</td>\n",
       "      <td>40</td>\n",
       "      <td>United-States</td>\n",
       "      <td>&lt;=50K</td>\n",
       "    </tr>\n",
       "    <tr>\n",
       "      <th>3</th>\n",
       "      <td>53</td>\n",
       "      <td>Private</td>\n",
       "      <td>234721</td>\n",
       "      <td>11th</td>\n",
       "      <td>7</td>\n",
       "      <td>Married-civ-spouse</td>\n",
       "      <td>Handlers-cleaners</td>\n",
       "      <td>Husband</td>\n",
       "      <td>Black</td>\n",
       "      <td>Male</td>\n",
       "      <td>0</td>\n",
       "      <td>0</td>\n",
       "      <td>40</td>\n",
       "      <td>United-States</td>\n",
       "      <td>&lt;=50K</td>\n",
       "    </tr>\n",
       "    <tr>\n",
       "      <th>4</th>\n",
       "      <td>28</td>\n",
       "      <td>Private</td>\n",
       "      <td>338409</td>\n",
       "      <td>Bachelors</td>\n",
       "      <td>13</td>\n",
       "      <td>Married-civ-spouse</td>\n",
       "      <td>Prof-specialty</td>\n",
       "      <td>Wife</td>\n",
       "      <td>Black</td>\n",
       "      <td>Female</td>\n",
       "      <td>0</td>\n",
       "      <td>0</td>\n",
       "      <td>40</td>\n",
       "      <td>Cuba</td>\n",
       "      <td>&lt;=50K</td>\n",
       "    </tr>\n",
       "  </tbody>\n",
       "</table>\n",
       "</div>"
      ],
      "text/plain": [
       "   age          workclass  fnlwgt   education  education-num  \\\n",
       "0   39          State-gov   77516   Bachelors             13   \n",
       "1   50   Self-emp-not-inc   83311   Bachelors             13   \n",
       "2   38            Private  215646     HS-grad              9   \n",
       "3   53            Private  234721        11th              7   \n",
       "4   28            Private  338409   Bachelors             13   \n",
       "\n",
       "        marital-status          occupation    relationship    race      sex  \\\n",
       "0        Never-married        Adm-clerical   Not-in-family   White     Male   \n",
       "1   Married-civ-spouse     Exec-managerial         Husband   White     Male   \n",
       "2             Divorced   Handlers-cleaners   Not-in-family   White     Male   \n",
       "3   Married-civ-spouse   Handlers-cleaners         Husband   Black     Male   \n",
       "4   Married-civ-spouse      Prof-specialty            Wife   Black   Female   \n",
       "\n",
       "   capital-gain  captial-loss  hours-per-week  native-country  income  \n",
       "0          2174             0              40   United-States   <=50K  \n",
       "1             0             0              13   United-States   <=50K  \n",
       "2             0             0              40   United-States   <=50K  \n",
       "3             0             0              40   United-States   <=50K  \n",
       "4             0             0              40            Cuba   <=50K  "
      ]
     },
     "execution_count": 123,
     "metadata": {},
     "output_type": "execute_result"
    }
   ],
   "source": [
    "adult.head()"
   ]
  },
  {
   "cell_type": "code",
   "execution_count": 15,
   "metadata": {
    "collapsed": false
   },
   "outputs": [
    {
     "data": {
      "text/plain": [
       "<matplotlib.axes._subplots.AxesSubplot at 0x572c589748>"
      ]
     },
     "execution_count": 15,
     "metadata": {},
     "output_type": "execute_result"
    },
    {
     "data": {
      "image/png": "[encoded data removed]",
      "text/plain": [
       "<matplotlib.figure.Figure at 0x572c555898>"
      ]
     },
     "metadata": {},
     "output_type": "display_data"
    }
   ],
   "source": [
    "adult['age'].value_counts().plot(kind='bar')"
   ]
  },
  {
   "cell_type": "code",
   "execution_count": 16,
   "metadata": {
    "collapsed": false
   },
   "outputs": [
    {
     "data": {
      "text/plain": [
       "<matplotlib.axes._subplots.AxesSubplot at 0x572cc6e4e0>"
      ]
     },
     "execution_count": 16,
     "metadata": {},
     "output_type": "execute_result"
    },
    {
     "data": {
      "image/png": "[encoded data removed]",
      "text/plain": [
       "<matplotlib.figure.Figure at 0x572cc28160>"
      ]
     },
     "metadata": {},
     "output_type": "display_data"
    }
   ],
   "source": [
    "adult['education'].value_counts().plot(kind='bar')"
   ]
  },
  {
   "cell_type": "code",
   "execution_count": 17,
   "metadata": {
    "collapsed": false
   },
   "outputs": [
    {
     "data": {
      "text/plain": [
       "<matplotlib.axes._subplots.AxesSubplot at 0x572cbf49e8>"
      ]
     },
     "execution_count": 17,
     "metadata": {},
     "output_type": "execute_result"
    },
    {
     "data": {
      "image/png": "[encoded data removed]",
      "text/plain": [
       "<matplotlib.figure.Figure at 0x572ce29780>"
      ]
     },
     "metadata": {},
     "output_type": "display_data"
    }
   ],
   "source": [
    "adult['sex'].value_counts().plot(kind='bar')"
   ]
  },
  {
   "cell_type": "code",
   "execution_count": 124,
   "metadata": {
    "collapsed": false
   },
   "outputs": [
    {
     "data": {
      "text/html": [
       "<div>\n",
       "<table border=\"1\" class=\"dataframe\">\n",
       "  <thead>\n",
       "    <tr style=\"text-align: right;\">\n",
       "      <th></th>\n",
       "      <th>age</th>\n",
       "      <th>fnlwgt</th>\n",
       "      <th>education-num</th>\n",
       "      <th>capital-gain</th>\n",
       "      <th>captial-loss</th>\n",
       "      <th>hours-per-week</th>\n",
       "    </tr>\n",
       "    <tr>\n",
       "      <th>income</th>\n",
       "      <th></th>\n",
       "      <th></th>\n",
       "      <th></th>\n",
       "      <th></th>\n",
       "      <th></th>\n",
       "      <th></th>\n",
       "    </tr>\n",
       "  </thead>\n",
       "  <tbody>\n",
       "    <tr>\n",
       "      <th>&lt;=50K</th>\n",
       "      <td>36.783738</td>\n",
       "      <td>190340.86517</td>\n",
       "      <td>9.595065</td>\n",
       "      <td>148.752468</td>\n",
       "      <td>53.142921</td>\n",
       "      <td>38.840210</td>\n",
       "    </tr>\n",
       "    <tr>\n",
       "      <th>&gt;50K</th>\n",
       "      <td>44.249841</td>\n",
       "      <td>188005.00000</td>\n",
       "      <td>11.611657</td>\n",
       "      <td>4006.142456</td>\n",
       "      <td>195.001530</td>\n",
       "      <td>45.473026</td>\n",
       "    </tr>\n",
       "  </tbody>\n",
       "</table>\n",
       "</div>"
      ],
      "text/plain": [
       "              age        fnlwgt  education-num  capital-gain  captial-loss  \\\n",
       "income                                                                       \n",
       " <=50K  36.783738  190340.86517       9.595065    148.752468     53.142921   \n",
       " >50K   44.249841  188005.00000      11.611657   4006.142456    195.001530   \n",
       "\n",
       "        hours-per-week  \n",
       "income                  \n",
       " <=50K       38.840210  \n",
       " >50K        45.473026  "
      ]
     },
     "execution_count": 124,
     "metadata": {},
     "output_type": "execute_result"
    }
   ],
   "source": [
    "# some more data exploration\n",
    "adult.groupby('income').mean()"
   ]
  },
  {
   "cell_type": "code",
   "execution_count": 125,
   "metadata": {
    "collapsed": false
   },
   "outputs": [
    {
     "data": {
      "text/html": [
       "<div>\n",
       "<table border=\"1\" class=\"dataframe\">\n",
       "  <thead>\n",
       "    <tr style=\"text-align: right;\">\n",
       "      <th></th>\n",
       "      <th>age</th>\n",
       "      <th>fnlwgt</th>\n",
       "      <th>education-num</th>\n",
       "      <th>capital-gain</th>\n",
       "      <th>captial-loss</th>\n",
       "      <th>hours-per-week</th>\n",
       "    </tr>\n",
       "    <tr>\n",
       "      <th>education</th>\n",
       "      <th></th>\n",
       "      <th></th>\n",
       "      <th></th>\n",
       "      <th></th>\n",
       "      <th></th>\n",
       "      <th></th>\n",
       "    </tr>\n",
       "  </thead>\n",
       "  <tbody>\n",
       "    <tr>\n",
       "      <th>10th</th>\n",
       "      <td>37.429796</td>\n",
       "      <td>196832.465166</td>\n",
       "      <td>6.0</td>\n",
       "      <td>404.574491</td>\n",
       "      <td>56.845659</td>\n",
       "      <td>37.052519</td>\n",
       "    </tr>\n",
       "    <tr>\n",
       "      <th>11th</th>\n",
       "      <td>32.355745</td>\n",
       "      <td>194928.077447</td>\n",
       "      <td>7.0</td>\n",
       "      <td>215.097872</td>\n",
       "      <td>50.079149</td>\n",
       "      <td>33.925957</td>\n",
       "    </tr>\n",
       "    <tr>\n",
       "      <th>12th</th>\n",
       "      <td>32.000000</td>\n",
       "      <td>199097.508083</td>\n",
       "      <td>8.0</td>\n",
       "      <td>284.087760</td>\n",
       "      <td>32.337182</td>\n",
       "      <td>35.780600</td>\n",
       "    </tr>\n",
       "    <tr>\n",
       "      <th>1st-4th</th>\n",
       "      <td>46.142857</td>\n",
       "      <td>239303.000000</td>\n",
       "      <td>2.0</td>\n",
       "      <td>125.875000</td>\n",
       "      <td>48.327381</td>\n",
       "      <td>38.255952</td>\n",
       "    </tr>\n",
       "    <tr>\n",
       "      <th>5th-6th</th>\n",
       "      <td>42.885886</td>\n",
       "      <td>232448.333333</td>\n",
       "      <td>3.0</td>\n",
       "      <td>176.021021</td>\n",
       "      <td>68.252252</td>\n",
       "      <td>38.897898</td>\n",
       "    </tr>\n",
       "    <tr>\n",
       "      <th>7th-8th</th>\n",
       "      <td>48.445820</td>\n",
       "      <td>188079.171827</td>\n",
       "      <td>4.0</td>\n",
       "      <td>233.939628</td>\n",
       "      <td>65.668731</td>\n",
       "      <td>39.366873</td>\n",
       "    </tr>\n",
       "    <tr>\n",
       "      <th>9th</th>\n",
       "      <td>41.060311</td>\n",
       "      <td>202485.066148</td>\n",
       "      <td>5.0</td>\n",
       "      <td>342.089494</td>\n",
       "      <td>28.998054</td>\n",
       "      <td>38.044747</td>\n",
       "    </tr>\n",
       "    <tr>\n",
       "      <th>Assoc-acdm</th>\n",
       "      <td>37.381443</td>\n",
       "      <td>193424.093721</td>\n",
       "      <td>12.0</td>\n",
       "      <td>640.399250</td>\n",
       "      <td>93.418932</td>\n",
       "      <td>40.504217</td>\n",
       "    </tr>\n",
       "    <tr>\n",
       "      <th>Assoc-voc</th>\n",
       "      <td>38.553546</td>\n",
       "      <td>181936.016643</td>\n",
       "      <td>11.0</td>\n",
       "      <td>715.051375</td>\n",
       "      <td>72.754703</td>\n",
       "      <td>41.610709</td>\n",
       "    </tr>\n",
       "    <tr>\n",
       "      <th>Bachelors</th>\n",
       "      <td>38.904949</td>\n",
       "      <td>188055.914846</td>\n",
       "      <td>13.0</td>\n",
       "      <td>1756.299533</td>\n",
       "      <td>118.350327</td>\n",
       "      <td>42.614006</td>\n",
       "    </tr>\n",
       "    <tr>\n",
       "      <th>Doctorate</th>\n",
       "      <td>47.702179</td>\n",
       "      <td>186698.760291</td>\n",
       "      <td>16.0</td>\n",
       "      <td>4770.145278</td>\n",
       "      <td>262.845036</td>\n",
       "      <td>46.973366</td>\n",
       "    </tr>\n",
       "    <tr>\n",
       "      <th>HS-grad</th>\n",
       "      <td>38.974479</td>\n",
       "      <td>189538.739739</td>\n",
       "      <td>9.0</td>\n",
       "      <td>576.800114</td>\n",
       "      <td>70.466622</td>\n",
       "      <td>40.575374</td>\n",
       "    </tr>\n",
       "    <tr>\n",
       "      <th>Masters</th>\n",
       "      <td>44.049913</td>\n",
       "      <td>179852.362739</td>\n",
       "      <td>14.0</td>\n",
       "      <td>2562.563552</td>\n",
       "      <td>166.719675</td>\n",
       "      <td>43.836332</td>\n",
       "    </tr>\n",
       "    <tr>\n",
       "      <th>Preschool</th>\n",
       "      <td>42.764706</td>\n",
       "      <td>235889.372549</td>\n",
       "      <td>1.0</td>\n",
       "      <td>898.392157</td>\n",
       "      <td>66.490196</td>\n",
       "      <td>36.647059</td>\n",
       "    </tr>\n",
       "    <tr>\n",
       "      <th>Prof-school</th>\n",
       "      <td>44.746528</td>\n",
       "      <td>185663.706597</td>\n",
       "      <td>15.0</td>\n",
       "      <td>10414.416667</td>\n",
       "      <td>231.203125</td>\n",
       "      <td>47.425347</td>\n",
       "    </tr>\n",
       "    <tr>\n",
       "      <th>Some-college</th>\n",
       "      <td>35.756275</td>\n",
       "      <td>188742.922370</td>\n",
       "      <td>10.0</td>\n",
       "      <td>598.824167</td>\n",
       "      <td>71.637087</td>\n",
       "      <td>38.852284</td>\n",
       "    </tr>\n",
       "  </tbody>\n",
       "</table>\n",
       "</div>"
      ],
      "text/plain": [
       "                     age         fnlwgt  education-num  capital-gain  \\\n",
       "education                                                              \n",
       " 10th          37.429796  196832.465166            6.0    404.574491   \n",
       " 11th          32.355745  194928.077447            7.0    215.097872   \n",
       " 12th          32.000000  199097.508083            8.0    284.087760   \n",
       " 1st-4th       46.142857  239303.000000            2.0    125.875000   \n",
       " 5th-6th       42.885886  232448.333333            3.0    176.021021   \n",
       " 7th-8th       48.445820  188079.171827            4.0    233.939628   \n",
       " 9th           41.060311  202485.066148            5.0    342.089494   \n",
       " Assoc-acdm    37.381443  193424.093721           12.0    640.399250   \n",
       " Assoc-voc     38.553546  181936.016643           11.0    715.051375   \n",
       " Bachelors     38.904949  188055.914846           13.0   1756.299533   \n",
       " Doctorate     47.702179  186698.760291           16.0   4770.145278   \n",
       " HS-grad       38.974479  189538.739739            9.0    576.800114   \n",
       " Masters       44.049913  179852.362739           14.0   2562.563552   \n",
       " Preschool     42.764706  235889.372549            1.0    898.392157   \n",
       " Prof-school   44.746528  185663.706597           15.0  10414.416667   \n",
       " Some-college  35.756275  188742.922370           10.0    598.824167   \n",
       "\n",
       "               captial-loss  hours-per-week  \n",
       "education                                    \n",
       " 10th             56.845659       37.052519  \n",
       " 11th             50.079149       33.925957  \n",
       " 12th             32.337182       35.780600  \n",
       " 1st-4th          48.327381       38.255952  \n",
       " 5th-6th          68.252252       38.897898  \n",
       " 7th-8th          65.668731       39.366873  \n",
       " 9th              28.998054       38.044747  \n",
       " Assoc-acdm       93.418932       40.504217  \n",
       " Assoc-voc        72.754703       41.610709  \n",
       " Bachelors       118.350327       42.614006  \n",
       " Doctorate       262.845036       46.973366  \n",
       " HS-grad          70.466622       40.575374  \n",
       " Masters         166.719675       43.836332  \n",
       " Preschool        66.490196       36.647059  \n",
       " Prof-school     231.203125       47.425347  \n",
       " Some-college     71.637087       38.852284  "
      ]
     },
     "execution_count": 125,
     "metadata": {},
     "output_type": "execute_result"
    }
   ],
   "source": [
    "adult.groupby('education').mean()"
   ]
  },
  {
   "cell_type": "code",
   "execution_count": 133,
   "metadata": {
    "collapsed": false
   },
   "outputs": [
    {
     "data": {
      "text/plain": [
       "<matplotlib.text.Text at 0xb08561fac8>"
      ]
     },
     "execution_count": 133,
     "metadata": {},
     "output_type": "execute_result"
    },
    {
     "data": {
      "image/png": "[encoded data removed]",
      "text/plain": [
       "<matplotlib.figure.Figure at 0xb08554c4e0>"
      ]
     },
     "metadata": {},
     "output_type": "display_data"
    }
   ],
   "source": [
    "# histogram\n",
    "adult['capital-gain'].hist()\n",
    "plt.title('Histogram of Capital-Gain')\n",
    "plt.xlabel('Capital-Gain')\n",
    "plt.ylabel('Frequency')"
   ]
  },
  {
   "cell_type": "code",
   "execution_count": 134,
   "metadata": {
    "collapsed": false
   },
   "outputs": [
    {
     "data": {
      "text/plain": [
       "<matplotlib.text.Text at 0xb085710cf8>"
      ]
     },
     "execution_count": 134,
     "metadata": {},
     "output_type": "execute_result"
    },
    {
     "data": {
      "image/png": "[encoded data removed]",
      "text/plain": [
       "<matplotlib.figure.Figure at 0xb08564b8d0>"
      ]
     },
     "metadata": {},
     "output_type": "display_data"
    }
   ],
   "source": [
    "adult['hours-per-week'].hist()\n",
    "plt.title('Histogram of Hours-Per-Week')\n",
    "plt.xlabel('Hours-Per-Week')\n",
    "plt.ylabel('Frequency')"
   ]
  },
  {
   "cell_type": "code",
   "execution_count": 153,
   "metadata": {
    "collapsed": false
   },
   "outputs": [
    {
     "data": {
      "text/plain": [
       "<matplotlib.text.Text at 0xb0864caac8>"
      ]
     },
     "execution_count": 153,
     "metadata": {},
     "output_type": "execute_result"
    },
    {
     "data": {
      "image/png": "[encoded data removed]",
      "text/plain": [
       "<matplotlib.figure.Figure at 0xb0864bf5f8>"
      ]
     },
     "metadata": {},
     "output_type": "display_data"
    }
   ],
   "source": [
    "# barplot of education groupled by income (T/F, over 50K)\n",
    "pd.crosstab(adult.education, adult.income).plot(kind='bar')\n",
    "plt.title('Education Distribution by Income')\n",
    "plt.xlabel('Education')\n",
    "plt.ylabel('Frequency')"
   ]
  },
  {
   "cell_type": "code",
   "execution_count": 164,
   "metadata": {
    "collapsed": false
   },
   "outputs": [],
   "source": [
    "# use a stacked barplot to look at percentage of income (over/under) by education\n",
    "education_income = pd.crosstab(adult.education, adult.income)\n",
    "# not sure why getting NaN errors\n",
    "#education_income.div(education_income.sum(1).astype(float))#.plot(kind='bar', stacked=True)"
   ]
  },
  {
   "cell_type": "code",
   "execution_count": 14,
   "metadata": {
    "collapsed": false
   },
   "outputs": [],
   "source": [
    "sample = adult.sample(frac=0.1)"
   ]
  },
  {
   "cell_type": "code",
   "execution_count": 7,
   "metadata": {
    "collapsed": false
   },
   "outputs": [],
   "source": [
    "# encode categorical variables to one of K\n",
    "le = preprocessing.LabelEncoder()\n",
    "#enc = preprocessing.OneHotEncoder()\n",
    "sample['workclass'] = le.fit_transform(sample['workclass'])\n",
    "#sample['workclass'] = enc.fit_transform(sample['workclass'])"
   ]
  },
  {
   "cell_type": "code",
   "execution_count": 9,
   "metadata": {
    "collapsed": false
   },
   "outputs": [
    {
     "data": {
      "text/plain": [
       "3256"
      ]
     },
     "execution_count": 9,
     "metadata": {},
     "output_type": "execute_result"
    }
   ],
   "source": [
    "le = preprocessing.LabelEncoder()\n",
    "len(le.fit_transform(sample['workclass']))"
   ]
  },
  {
   "cell_type": "code",
   "execution_count": 15,
   "metadata": {
    "collapsed": false
   },
   "outputs": [
    {
     "data": {
      "text/html": [
       "<div>\n",
       "<table border=\"1\" class=\"dataframe\">\n",
       "  <thead>\n",
       "    <tr style=\"text-align: right;\">\n",
       "      <th></th>\n",
       "      <th>age</th>\n",
       "      <th>workclass</th>\n",
       "      <th>fnlwgt</th>\n",
       "      <th>education</th>\n",
       "      <th>education-num</th>\n",
       "      <th>marital-status</th>\n",
       "      <th>occupation</th>\n",
       "      <th>relationship</th>\n",
       "      <th>race</th>\n",
       "      <th>sex</th>\n",
       "      <th>captial-gain</th>\n",
       "      <th>captial-loss</th>\n",
       "      <th>hours-per-week</th>\n",
       "      <th>native-country</th>\n",
       "      <th>income</th>\n",
       "    </tr>\n",
       "  </thead>\n",
       "  <tbody>\n",
       "    <tr>\n",
       "      <th>16341</th>\n",
       "      <td>63</td>\n",
       "      <td>Private</td>\n",
       "      <td>163809</td>\n",
       "      <td>Some-college</td>\n",
       "      <td>10</td>\n",
       "      <td>Widowed</td>\n",
       "      <td>Sales</td>\n",
       "      <td>Not-in-family</td>\n",
       "      <td>White</td>\n",
       "      <td>Female</td>\n",
       "      <td>0</td>\n",
       "      <td>0</td>\n",
       "      <td>20</td>\n",
       "      <td>United-States</td>\n",
       "      <td>&lt;=50K</td>\n",
       "    </tr>\n",
       "    <tr>\n",
       "      <th>2492</th>\n",
       "      <td>26</td>\n",
       "      <td>Private</td>\n",
       "      <td>181666</td>\n",
       "      <td>HS-grad</td>\n",
       "      <td>9</td>\n",
       "      <td>Never-married</td>\n",
       "      <td>Handlers-cleaners</td>\n",
       "      <td>Own-child</td>\n",
       "      <td>White</td>\n",
       "      <td>Female</td>\n",
       "      <td>0</td>\n",
       "      <td>0</td>\n",
       "      <td>40</td>\n",
       "      <td>United-States</td>\n",
       "      <td>&lt;=50K</td>\n",
       "    </tr>\n",
       "    <tr>\n",
       "      <th>20175</th>\n",
       "      <td>27</td>\n",
       "      <td>Private</td>\n",
       "      <td>199314</td>\n",
       "      <td>Bachelors</td>\n",
       "      <td>13</td>\n",
       "      <td>Never-married</td>\n",
       "      <td>Adm-clerical</td>\n",
       "      <td>Not-in-family</td>\n",
       "      <td>White</td>\n",
       "      <td>Male</td>\n",
       "      <td>0</td>\n",
       "      <td>0</td>\n",
       "      <td>40</td>\n",
       "      <td>Poland</td>\n",
       "      <td>&lt;=50K</td>\n",
       "    </tr>\n",
       "    <tr>\n",
       "      <th>24707</th>\n",
       "      <td>49</td>\n",
       "      <td>Private</td>\n",
       "      <td>188515</td>\n",
       "      <td>Some-college</td>\n",
       "      <td>10</td>\n",
       "      <td>Divorced</td>\n",
       "      <td>Adm-clerical</td>\n",
       "      <td>Unmarried</td>\n",
       "      <td>White</td>\n",
       "      <td>Female</td>\n",
       "      <td>0</td>\n",
       "      <td>0</td>\n",
       "      <td>40</td>\n",
       "      <td>United-States</td>\n",
       "      <td>&lt;=50K</td>\n",
       "    </tr>\n",
       "    <tr>\n",
       "      <th>6599</th>\n",
       "      <td>39</td>\n",
       "      <td>Private</td>\n",
       "      <td>179668</td>\n",
       "      <td>Bachelors</td>\n",
       "      <td>13</td>\n",
       "      <td>Married-civ-spouse</td>\n",
       "      <td>Tech-support</td>\n",
       "      <td>Husband</td>\n",
       "      <td>White</td>\n",
       "      <td>Male</td>\n",
       "      <td>15024</td>\n",
       "      <td>0</td>\n",
       "      <td>40</td>\n",
       "      <td>United-States</td>\n",
       "      <td>&gt;50K</td>\n",
       "    </tr>\n",
       "  </tbody>\n",
       "</table>\n",
       "</div>"
      ],
      "text/plain": [
       "       age workclass  fnlwgt      education  education-num  \\\n",
       "16341   63   Private  163809   Some-college             10   \n",
       "2492    26   Private  181666        HS-grad              9   \n",
       "20175   27   Private  199314      Bachelors             13   \n",
       "24707   49   Private  188515   Some-college             10   \n",
       "6599    39   Private  179668      Bachelors             13   \n",
       "\n",
       "            marital-status          occupation    relationship    race  \\\n",
       "16341              Widowed               Sales   Not-in-family   White   \n",
       "2492         Never-married   Handlers-cleaners       Own-child   White   \n",
       "20175        Never-married        Adm-clerical   Not-in-family   White   \n",
       "24707             Divorced        Adm-clerical       Unmarried   White   \n",
       "6599    Married-civ-spouse        Tech-support         Husband   White   \n",
       "\n",
       "           sex  captial-gain  captial-loss  hours-per-week  native-country  \\\n",
       "16341   Female             0             0              20   United-States   \n",
       "2492    Female             0             0              40   United-States   \n",
       "20175     Male             0             0              40          Poland   \n",
       "24707   Female             0             0              40   United-States   \n",
       "6599      Male         15024             0              40   United-States   \n",
       "\n",
       "       income  \n",
       "16341   <=50K  \n",
       "2492    <=50K  \n",
       "20175   <=50K  \n",
       "24707   <=50K  \n",
       "6599     >50K  "
      ]
     },
     "execution_count": 15,
     "metadata": {},
     "output_type": "execute_result"
    }
   ],
   "source": [
    "sample.head()"
   ]
  },
  {
   "cell_type": "code",
   "execution_count": 37,
   "metadata": {
    "collapsed": false
   },
   "outputs": [
    {
     "ename": "AttributeError",
     "evalue": "can't set attribute",
     "output_type": "error",
     "traceback": [
      "\u001b[1;31m---------------------------------------------------------------------------\u001b[0m",
      "\u001b[1;31mAttributeError\u001b[0m                            Traceback (most recent call last)",
      "\u001b[1;32mC:\\Anaconda3\\lib\\site-packages\\pandas\\core\\generic.py\u001b[0m in \u001b[0;36m__setattr__\u001b[1;34m(self, name, value)\u001b[0m\n\u001b[0;32m   2699\u001b[0m                 \u001b[1;32melse\u001b[0m\u001b[1;33m:\u001b[0m\u001b[1;33m\u001b[0m\u001b[0m\n\u001b[1;32m-> 2700\u001b[1;33m                     \u001b[0mobject\u001b[0m\u001b[1;33m.\u001b[0m\u001b[0m__setattr__\u001b[0m\u001b[1;33m(\u001b[0m\u001b[0mself\u001b[0m\u001b[1;33m,\u001b[0m \u001b[0mname\u001b[0m\u001b[1;33m,\u001b[0m \u001b[0mvalue\u001b[0m\u001b[1;33m)\u001b[0m\u001b[1;33m\u001b[0m\u001b[0m\n\u001b[0m\u001b[0;32m   2701\u001b[0m             \u001b[1;32mexcept\u001b[0m \u001b[1;33m(\u001b[0m\u001b[0mAttributeError\u001b[0m\u001b[1;33m,\u001b[0m \u001b[0mTypeError\u001b[0m\u001b[1;33m)\u001b[0m\u001b[1;33m:\u001b[0m\u001b[1;33m\u001b[0m\u001b[0m\n",
      "\u001b[1;31mAttributeError\u001b[0m: can't set attribute",
      "\nDuring handling of the above exception, another exception occurred:\n",
      "\u001b[1;31mAttributeError\u001b[0m                            Traceback (most recent call last)",
      "\u001b[1;32m<ipython-input-37-a70eb587252e>\u001b[0m in \u001b[0;36m<module>\u001b[1;34m()\u001b[0m\n\u001b[0;32m      1\u001b[0m \u001b[0my\u001b[0m \u001b[1;33m=\u001b[0m \u001b[0msample\u001b[0m\u001b[1;33m[\u001b[0m\u001b[1;34m'income'\u001b[0m\u001b[1;33m]\u001b[0m\u001b[1;33m\u001b[0m\u001b[0m\n\u001b[1;32m----> 2\u001b[1;33m \u001b[0my\u001b[0m\u001b[1;33m.\u001b[0m\u001b[0mshape\u001b[0m \u001b[1;33m=\u001b[0m \u001b[1;36m3256\u001b[0m\u001b[1;33m\u001b[0m\u001b[0m\n\u001b[0m\u001b[0;32m      3\u001b[0m \u001b[0my\u001b[0m\u001b[1;33m.\u001b[0m\u001b[0mshape\u001b[0m\u001b[1;33m\u001b[0m\u001b[0m\n",
      "\u001b[1;32mC:\\Anaconda3\\lib\\site-packages\\pandas\\core\\generic.py\u001b[0m in \u001b[0;36m__setattr__\u001b[1;34m(self, name, value)\u001b[0m\n\u001b[0;32m   2700\u001b[0m                     \u001b[0mobject\u001b[0m\u001b[1;33m.\u001b[0m\u001b[0m__setattr__\u001b[0m\u001b[1;33m(\u001b[0m\u001b[0mself\u001b[0m\u001b[1;33m,\u001b[0m \u001b[0mname\u001b[0m\u001b[1;33m,\u001b[0m \u001b[0mvalue\u001b[0m\u001b[1;33m)\u001b[0m\u001b[1;33m\u001b[0m\u001b[0m\n\u001b[0;32m   2701\u001b[0m             \u001b[1;32mexcept\u001b[0m \u001b[1;33m(\u001b[0m\u001b[0mAttributeError\u001b[0m\u001b[1;33m,\u001b[0m \u001b[0mTypeError\u001b[0m\u001b[1;33m)\u001b[0m\u001b[1;33m:\u001b[0m\u001b[1;33m\u001b[0m\u001b[0m\n\u001b[1;32m-> 2702\u001b[1;33m                 \u001b[0mobject\u001b[0m\u001b[1;33m.\u001b[0m\u001b[0m__setattr__\u001b[0m\u001b[1;33m(\u001b[0m\u001b[0mself\u001b[0m\u001b[1;33m,\u001b[0m \u001b[0mname\u001b[0m\u001b[1;33m,\u001b[0m \u001b[0mvalue\u001b[0m\u001b[1;33m)\u001b[0m\u001b[1;33m\u001b[0m\u001b[0m\n\u001b[0m\u001b[0;32m   2703\u001b[0m \u001b[1;33m\u001b[0m\u001b[0m\n\u001b[0;32m   2704\u001b[0m     \u001b[1;31m# ----------------------------------------------------------------------\u001b[0m\u001b[1;33m\u001b[0m\u001b[1;33m\u001b[0m\u001b[0m\n",
      "\u001b[1;31mAttributeError\u001b[0m: can't set attribute"
     ]
    }
   ],
   "source": [
    "y = sample['income']\n",
    "y.shape = 3256\n",
    "y.shape"
   ]
  },
  {
   "cell_type": "code",
   "execution_count": 52,
   "metadata": {
    "collapsed": false
   },
   "outputs": [
    {
     "data": {
      "text/plain": [
       "LogisticRegression(C=1.0, class_weight=None, dual=False, fit_intercept=True,\n",
       "          intercept_scaling=1, max_iter=100, multi_class='ovr', n_jobs=1,\n",
       "          penalty='l2', random_state=None, solver='liblinear', tol=0.0001,\n",
       "          verbose=0, warm_start=False)"
      ]
     },
     "execution_count": 52,
     "metadata": {},
     "output_type": "execute_result"
    }
   ],
   "source": [
    "# preprocessing, dealing with categorical variables\n",
    "X = adult.drop('income', axis=1)\n",
    "X = pd.get_dummies(X)\n",
    "y = adult['income']\n",
    "train_X, test_X, train_y, test_y = train_test_split(X, y, test_size=0.2)\n",
    "\n",
    "logreg = linear_model.LogisticRegression()\n",
    "logreg = logreg.fit(train_X,train_y)\n",
    "#sample_dummy = pd.get_dummies(sample)\n",
    "#sample_dummy.head()\n",
    "logreg"
   ]
  },
  {
   "cell_type": "code",
   "execution_count": 54,
   "metadata": {
    "collapsed": false
   },
   "outputs": [
    {
     "data": {
      "text/plain": [
       "0.79809611546138493"
      ]
     },
     "execution_count": 54,
     "metadata": {},
     "output_type": "execute_result"
    }
   ],
   "source": [
    "logreg.score(test_X, test_y)"
   ]
  },
  {
   "cell_type": "code",
   "execution_count": 55,
   "metadata": {
    "collapsed": false
   },
   "outputs": [
    {
     "data": {
      "text/plain": [
       " <=50K    24720\n",
       " >50K      7841\n",
       "Name: income, dtype: int64"
      ]
     },
     "execution_count": 55,
     "metadata": {},
     "output_type": "execute_result"
    }
   ],
   "source": [
    "adult['income'].value_counts()"
   ]
  },
  {
   "cell_type": "code",
   "execution_count": 56,
   "metadata": {
    "collapsed": false
   },
   "outputs": [
    {
     "data": {
      "text/plain": [
       "0.31719255663430423"
      ]
     },
     "execution_count": 56,
     "metadata": {},
     "output_type": "execute_result"
    }
   ],
   "source": [
    "7841/24720"
   ]
  },
  {
   "cell_type": "code",
   "execution_count": 69,
   "metadata": {
    "collapsed": false
   },
   "outputs": [
    {
     "data": {
      "text/html": [
       "<div>\n",
       "<table border=\"1\" class=\"dataframe\">\n",
       "  <thead>\n",
       "    <tr style=\"text-align: right;\">\n",
       "      <th></th>\n",
       "      <th>0</th>\n",
       "      <th>1</th>\n",
       "    </tr>\n",
       "  </thead>\n",
       "  <tbody>\n",
       "    <tr>\n",
       "      <th>0</th>\n",
       "      <td>age</td>\n",
       "      <td>[-0.00609320797437]</td>\n",
       "    </tr>\n",
       "    <tr>\n",
       "      <th>1</th>\n",
       "      <td>fnlwgt</td>\n",
       "      <td>[-4.13568723997e-06]</td>\n",
       "    </tr>\n",
       "    <tr>\n",
       "      <th>2</th>\n",
       "      <td>education-num</td>\n",
       "      <td>[-0.00144070454516]</td>\n",
       "    </tr>\n",
       "    <tr>\n",
       "      <th>3</th>\n",
       "      <td>captial-gain</td>\n",
       "      <td>[0.000333587402939]</td>\n",
       "    </tr>\n",
       "    <tr>\n",
       "      <th>4</th>\n",
       "      <td>captial-loss</td>\n",
       "      <td>[0.000755913511905]</td>\n",
       "    </tr>\n",
       "    <tr>\n",
       "      <th>5</th>\n",
       "      <td>hours-per-week</td>\n",
       "      <td>[-0.00700975655886]</td>\n",
       "    </tr>\n",
       "    <tr>\n",
       "      <th>6</th>\n",
       "      <td>workclass_ ?</td>\n",
       "      <td>[-7.7390325164e-05]</td>\n",
       "    </tr>\n",
       "    <tr>\n",
       "      <th>7</th>\n",
       "      <td>workclass_ Federal-gov</td>\n",
       "      <td>[2.2057863878e-05]</td>\n",
       "    </tr>\n",
       "    <tr>\n",
       "      <th>8</th>\n",
       "      <td>workclass_ Local-gov</td>\n",
       "      <td>[2.65286191909e-06]</td>\n",
       "    </tr>\n",
       "    <tr>\n",
       "      <th>9</th>\n",
       "      <td>workclass_ Never-worked</td>\n",
       "      <td>[-3.41656754378e-07]</td>\n",
       "    </tr>\n",
       "    <tr>\n",
       "      <th>10</th>\n",
       "      <td>workclass_ Private</td>\n",
       "      <td>[-0.000333123598837]</td>\n",
       "    </tr>\n",
       "    <tr>\n",
       "      <th>11</th>\n",
       "      <td>workclass_ Self-emp-inc</td>\n",
       "      <td>[4.18620148482e-05]</td>\n",
       "    </tr>\n",
       "    <tr>\n",
       "      <th>12</th>\n",
       "      <td>workclass_ Self-emp-not-inc</td>\n",
       "      <td>[-1.72401663456e-05]</td>\n",
       "    </tr>\n",
       "    <tr>\n",
       "      <th>13</th>\n",
       "      <td>workclass_ State-gov</td>\n",
       "      <td>[-8.04793559984e-06]</td>\n",
       "    </tr>\n",
       "    <tr>\n",
       "      <th>14</th>\n",
       "      <td>workclass_ Without-pay</td>\n",
       "      <td>[-1.00622069766e-06]</td>\n",
       "    </tr>\n",
       "    <tr>\n",
       "      <th>15</th>\n",
       "      <td>education_ 10th</td>\n",
       "      <td>[-4.15673101521e-05]</td>\n",
       "    </tr>\n",
       "    <tr>\n",
       "      <th>16</th>\n",
       "      <td>education_ 11th</td>\n",
       "      <td>[-5.77997181639e-05]</td>\n",
       "    </tr>\n",
       "    <tr>\n",
       "      <th>17</th>\n",
       "      <td>education_ 12th</td>\n",
       "      <td>[-1.86991661701e-05]</td>\n",
       "    </tr>\n",
       "    <tr>\n",
       "      <th>18</th>\n",
       "      <td>education_ 1st-4th</td>\n",
       "      <td>[-6.29353063343e-06]</td>\n",
       "    </tr>\n",
       "    <tr>\n",
       "      <th>19</th>\n",
       "      <td>education_ 5th-6th</td>\n",
       "      <td>[-1.52635167218e-05]</td>\n",
       "    </tr>\n",
       "    <tr>\n",
       "      <th>20</th>\n",
       "      <td>education_ 7th-8th</td>\n",
       "      <td>[-3.21204021266e-05]</td>\n",
       "    </tr>\n",
       "    <tr>\n",
       "      <th>21</th>\n",
       "      <td>education_ 9th</td>\n",
       "      <td>[-2.43702277629e-05]</td>\n",
       "    </tr>\n",
       "    <tr>\n",
       "      <th>22</th>\n",
       "      <td>education_ Assoc-acdm</td>\n",
       "      <td>[-6.67866863534e-06]</td>\n",
       "    </tr>\n",
       "    <tr>\n",
       "      <th>23</th>\n",
       "      <td>education_ Assoc-voc</td>\n",
       "      <td>[-1.12869413665e-05]</td>\n",
       "    </tr>\n",
       "    <tr>\n",
       "      <th>24</th>\n",
       "      <td>education_ Bachelors</td>\n",
       "      <td>[0.000130384414641]</td>\n",
       "    </tr>\n",
       "    <tr>\n",
       "      <th>25</th>\n",
       "      <td>education_ Doctorate</td>\n",
       "      <td>[3.53657561772e-05]</td>\n",
       "    </tr>\n",
       "    <tr>\n",
       "      <th>26</th>\n",
       "      <td>education_ HS-grad</td>\n",
       "      <td>[-0.000284294708574]</td>\n",
       "    </tr>\n",
       "    <tr>\n",
       "      <th>27</th>\n",
       "      <td>education_ Masters</td>\n",
       "      <td>[8.1514023097e-05]</td>\n",
       "    </tr>\n",
       "    <tr>\n",
       "      <th>28</th>\n",
       "      <td>education_ Preschool</td>\n",
       "      <td>[-2.49519678026e-06]</td>\n",
       "    </tr>\n",
       "    <tr>\n",
       "      <th>29</th>\n",
       "      <td>education_ Prof-school</td>\n",
       "      <td>[4.09445733805e-05]</td>\n",
       "    </tr>\n",
       "    <tr>\n",
       "      <th>30</th>\n",
       "      <td>education_ Some-college</td>\n",
       "      <td>[-0.000157916542963]</td>\n",
       "    </tr>\n",
       "    <tr>\n",
       "      <th>31</th>\n",
       "      <td>marital-status_ Divorced</td>\n",
       "      <td>[-0.000185465873493]</td>\n",
       "    </tr>\n",
       "    <tr>\n",
       "      <th>32</th>\n",
       "      <td>marital-status_ Married-AF-spouse</td>\n",
       "      <td>[1.09135713331e-06]</td>\n",
       "    </tr>\n",
       "    <tr>\n",
       "      <th>33</th>\n",
       "      <td>marital-status_ Married-civ-spouse</td>\n",
       "      <td>[0.000472562856103]</td>\n",
       "    </tr>\n",
       "    <tr>\n",
       "      <th>34</th>\n",
       "      <td>marital-status_ Married-spouse-absent</td>\n",
       "      <td>[-1.9164129025e-05]</td>\n",
       "    </tr>\n",
       "    <tr>\n",
       "      <th>35</th>\n",
       "      <td>marital-status_ Never-married</td>\n",
       "      <td>[-0.00054554703288]</td>\n",
       "    </tr>\n",
       "    <tr>\n",
       "      <th>36</th>\n",
       "      <td>marital-status_ Separated</td>\n",
       "      <td>[-4.6533747141e-05]</td>\n",
       "    </tr>\n",
       "    <tr>\n",
       "      <th>37</th>\n",
       "      <td>marital-status_ Widowed</td>\n",
       "      <td>[-4.75205934513e-05]</td>\n",
       "    </tr>\n",
       "    <tr>\n",
       "      <th>38</th>\n",
       "      <td>occupation_ ?</td>\n",
       "      <td>[-7.77319819184e-05]</td>\n",
       "    </tr>\n",
       "    <tr>\n",
       "      <th>39</th>\n",
       "      <td>occupation_ Adm-clerical</td>\n",
       "      <td>[-0.000114373494806]</td>\n",
       "    </tr>\n",
       "    <tr>\n",
       "      <th>40</th>\n",
       "      <td>occupation_ Armed-Forces</td>\n",
       "      <td>[-1.24133586805e-07]</td>\n",
       "    </tr>\n",
       "    <tr>\n",
       "      <th>41</th>\n",
       "      <td>occupation_ Craft-repair</td>\n",
       "      <td>[-5.56283001079e-05]</td>\n",
       "    </tr>\n",
       "    <tr>\n",
       "      <th>42</th>\n",
       "      <td>occupation_ Exec-managerial</td>\n",
       "      <td>[0.000143354021304]</td>\n",
       "    </tr>\n",
       "    <tr>\n",
       "      <th>43</th>\n",
       "      <td>occupation_ Farming-fishing</td>\n",
       "      <td>[-4.28303723103e-05]</td>\n",
       "    </tr>\n",
       "    <tr>\n",
       "      <th>44</th>\n",
       "      <td>occupation_ Handlers-cleaners</td>\n",
       "      <td>[-6.06308956433e-05]</td>\n",
       "    </tr>\n",
       "    <tr>\n",
       "      <th>45</th>\n",
       "      <td>occupation_ Machine-op-inspct</td>\n",
       "      <td>[-6.24543470519e-05]</td>\n",
       "    </tr>\n",
       "    <tr>\n",
       "      <th>46</th>\n",
       "      <td>occupation_ Other-service</td>\n",
       "      <td>[-0.000168913847178]</td>\n",
       "    </tr>\n",
       "    <tr>\n",
       "      <th>47</th>\n",
       "      <td>occupation_ Priv-house-serv</td>\n",
       "      <td>[-8.16898296243e-06]</td>\n",
       "    </tr>\n",
       "    <tr>\n",
       "      <th>48</th>\n",
       "      <td>occupation_ Prof-specialty</td>\n",
       "      <td>[0.000119267447061]</td>\n",
       "    </tr>\n",
       "    <tr>\n",
       "      <th>49</th>\n",
       "      <td>occupation_ Protective-serv</td>\n",
       "      <td>[7.75349771478e-06]</td>\n",
       "    </tr>\n",
       "    <tr>\n",
       "      <th>50</th>\n",
       "      <td>occupation_ Sales</td>\n",
       "      <td>[-2.45964547515e-05]</td>\n",
       "    </tr>\n",
       "    <tr>\n",
       "      <th>51</th>\n",
       "      <td>occupation_ Tech-support</td>\n",
       "      <td>[4.79600938638e-06]</td>\n",
       "    </tr>\n",
       "    <tr>\n",
       "      <th>52</th>\n",
       "      <td>occupation_ Transport-moving</td>\n",
       "      <td>[-3.02953279033e-05]</td>\n",
       "    </tr>\n",
       "    <tr>\n",
       "      <th>53</th>\n",
       "      <td>relationship_ Husband</td>\n",
       "      <td>[0.000418378761182]</td>\n",
       "    </tr>\n",
       "    <tr>\n",
       "      <th>54</th>\n",
       "      <td>relationship_ Not-in-family</td>\n",
       "      <td>[-0.000343379936811]</td>\n",
       "    </tr>\n",
       "    <tr>\n",
       "      <th>55</th>\n",
       "      <td>relationship_ Other-relative</td>\n",
       "      <td>[-4.83645928863e-05]</td>\n",
       "    </tr>\n",
       "    <tr>\n",
       "      <th>56</th>\n",
       "      <td>relationship_ Own-child</td>\n",
       "      <td>[-0.000291907064507]</td>\n",
       "    </tr>\n",
       "    <tr>\n",
       "      <th>57</th>\n",
       "      <td>relationship_ Unmarried</td>\n",
       "      <td>[-0.000166528541422]</td>\n",
       "    </tr>\n",
       "    <tr>\n",
       "      <th>58</th>\n",
       "      <td>relationship_ Wife</td>\n",
       "      <td>[6.12242116917e-05]</td>\n",
       "    </tr>\n",
       "    <tr>\n",
       "      <th>59</th>\n",
       "      <td>race_ Amer-Indian-Eskimo</td>\n",
       "      <td>[-1.8254828382e-05]</td>\n",
       "    </tr>\n",
       "    <tr>\n",
       "      <th>60</th>\n",
       "      <td>race_ Asian-Pac-Islander</td>\n",
       "      <td>[-1.45565025199e-05]</td>\n",
       "    </tr>\n",
       "    <tr>\n",
       "      <th>61</th>\n",
       "      <td>race_ Black</td>\n",
       "      <td>[-8.16560016127e-05]</td>\n",
       "    </tr>\n",
       "    <tr>\n",
       "      <th>62</th>\n",
       "      <td>race_ Other</td>\n",
       "      <td>[-1.16852698459e-05]</td>\n",
       "    </tr>\n",
       "    <tr>\n",
       "      <th>63</th>\n",
       "      <td>race_ White</td>\n",
       "      <td>[-0.000244424560393]</td>\n",
       "    </tr>\n",
       "    <tr>\n",
       "      <th>64</th>\n",
       "      <td>sex_ Female</td>\n",
       "      <td>[-0.000426009762028]</td>\n",
       "    </tr>\n",
       "    <tr>\n",
       "      <th>65</th>\n",
       "      <td>sex_ Male</td>\n",
       "      <td>[5.54325992741e-05]</td>\n",
       "    </tr>\n",
       "    <tr>\n",
       "      <th>66</th>\n",
       "      <td>native-country_ ?</td>\n",
       "      <td>[-5.41637033574e-06]</td>\n",
       "    </tr>\n",
       "    <tr>\n",
       "      <th>67</th>\n",
       "      <td>native-country_ Cambodia</td>\n",
       "      <td>[4.64775159125e-08]</td>\n",
       "    </tr>\n",
       "    <tr>\n",
       "      <th>68</th>\n",
       "      <td>native-country_ Canada</td>\n",
       "      <td>[5.00675732257e-07]</td>\n",
       "    </tr>\n",
       "    <tr>\n",
       "      <th>69</th>\n",
       "      <td>native-country_ China</td>\n",
       "      <td>[-9.90044371704e-07]</td>\n",
       "    </tr>\n",
       "    <tr>\n",
       "      <th>70</th>\n",
       "      <td>native-country_ Columbia</td>\n",
       "      <td>[-2.75642776583e-06]</td>\n",
       "    </tr>\n",
       "    <tr>\n",
       "      <th>71</th>\n",
       "      <td>native-country_ Cuba</td>\n",
       "      <td>[7.59562717221e-07]</td>\n",
       "    </tr>\n",
       "    <tr>\n",
       "      <th>72</th>\n",
       "      <td>native-country_ Dominican-Republic</td>\n",
       "      <td>[-3.77937453694e-06]</td>\n",
       "    </tr>\n",
       "    <tr>\n",
       "      <th>73</th>\n",
       "      <td>native-country_ Ecuador</td>\n",
       "      <td>[-1.31215333996e-06]</td>\n",
       "    </tr>\n",
       "    <tr>\n",
       "      <th>74</th>\n",
       "      <td>native-country_ El-Salvador</td>\n",
       "      <td>[-3.64151698294e-06]</td>\n",
       "    </tr>\n",
       "    <tr>\n",
       "      <th>75</th>\n",
       "      <td>native-country_ England</td>\n",
       "      <td>[-3.27986044551e-09]</td>\n",
       "    </tr>\n",
       "    <tr>\n",
       "      <th>76</th>\n",
       "      <td>native-country_ France</td>\n",
       "      <td>[1.19538640432e-06]</td>\n",
       "    </tr>\n",
       "    <tr>\n",
       "      <th>77</th>\n",
       "      <td>native-country_ Germany</td>\n",
       "      <td>[1.5142342384e-06]</td>\n",
       "    </tr>\n",
       "    <tr>\n",
       "      <th>78</th>\n",
       "      <td>native-country_ Greece</td>\n",
       "      <td>[-4.65252653713e-07]</td>\n",
       "    </tr>\n",
       "    <tr>\n",
       "      <th>79</th>\n",
       "      <td>native-country_ Guatemala</td>\n",
       "      <td>[-2.17974519682e-06]</td>\n",
       "    </tr>\n",
       "    <tr>\n",
       "      <th>80</th>\n",
       "      <td>native-country_ Haiti</td>\n",
       "      <td>[-1.6978817449e-06]</td>\n",
       "    </tr>\n",
       "    <tr>\n",
       "      <th>81</th>\n",
       "      <td>native-country_ Holand-Netherlands</td>\n",
       "      <td>[-2.33325415514e-07]</td>\n",
       "    </tr>\n",
       "    <tr>\n",
       "      <th>82</th>\n",
       "      <td>native-country_ Honduras</td>\n",
       "      <td>[-3.49455767611e-07]</td>\n",
       "    </tr>\n",
       "    <tr>\n",
       "      <th>83</th>\n",
       "      <td>native-country_ Hong</td>\n",
       "      <td>[1.3978450137e-07]</td>\n",
       "    </tr>\n",
       "    <tr>\n",
       "      <th>84</th>\n",
       "      <td>native-country_ Hungary</td>\n",
       "      <td>[-4.24656202063e-07]</td>\n",
       "    </tr>\n",
       "    <tr>\n",
       "      <th>85</th>\n",
       "      <td>native-country_ India</td>\n",
       "      <td>[1.8913534377e-06]</td>\n",
       "    </tr>\n",
       "    <tr>\n",
       "      <th>86</th>\n",
       "      <td>native-country_ Iran</td>\n",
       "      <td>[1.25192840032e-06]</td>\n",
       "    </tr>\n",
       "    <tr>\n",
       "      <th>87</th>\n",
       "      <td>native-country_ Ireland</td>\n",
       "      <td>[-9.02503091721e-07]</td>\n",
       "    </tr>\n",
       "    <tr>\n",
       "      <th>88</th>\n",
       "      <td>native-country_ Italy</td>\n",
       "      <td>[1.12412422619e-06]</td>\n",
       "    </tr>\n",
       "    <tr>\n",
       "      <th>89</th>\n",
       "      <td>native-country_ Jamaica</td>\n",
       "      <td>[-2.3559660195e-06]</td>\n",
       "    </tr>\n",
       "    <tr>\n",
       "      <th>90</th>\n",
       "      <td>native-country_ Japan</td>\n",
       "      <td>[5.64143512711e-07]</td>\n",
       "    </tr>\n",
       "    <tr>\n",
       "      <th>91</th>\n",
       "      <td>native-country_ Laos</td>\n",
       "      <td>[-2.97961337227e-07]</td>\n",
       "    </tr>\n",
       "    <tr>\n",
       "      <th>92</th>\n",
       "      <td>native-country_ Mexico</td>\n",
       "      <td>[-1.79802639032e-05]</td>\n",
       "    </tr>\n",
       "    <tr>\n",
       "      <th>93</th>\n",
       "      <td>native-country_ Nicaragua</td>\n",
       "      <td>[-1.13412538007e-06]</td>\n",
       "    </tr>\n",
       "    <tr>\n",
       "      <th>94</th>\n",
       "      <td>native-country_ Outlying-US(Guam-USVI-etc)</td>\n",
       "      <td>[-7.95580757053e-07]</td>\n",
       "    </tr>\n",
       "    <tr>\n",
       "      <th>95</th>\n",
       "      <td>native-country_ Peru</td>\n",
       "      <td>[-1.07605395875e-06]</td>\n",
       "    </tr>\n",
       "    <tr>\n",
       "      <th>96</th>\n",
       "      <td>native-country_ Philippines</td>\n",
       "      <td>[-4.19157024651e-07]</td>\n",
       "    </tr>\n",
       "    <tr>\n",
       "      <th>97</th>\n",
       "      <td>native-country_ Poland</td>\n",
       "      <td>[-1.15180638023e-06]</td>\n",
       "    </tr>\n",
       "    <tr>\n",
       "      <th>98</th>\n",
       "      <td>native-country_ Portugal</td>\n",
       "      <td>[-2.14958988829e-06]</td>\n",
       "    </tr>\n",
       "    <tr>\n",
       "      <th>99</th>\n",
       "      <td>native-country_ Puerto-Rico</td>\n",
       "      <td>[-3.55992982085e-06]</td>\n",
       "    </tr>\n",
       "    <tr>\n",
       "      <th>100</th>\n",
       "      <td>native-country_ Scotland</td>\n",
       "      <td>[-9.07339066335e-08]</td>\n",
       "    </tr>\n",
       "    <tr>\n",
       "      <th>101</th>\n",
       "      <td>native-country_ South</td>\n",
       "      <td>[-2.61544167892e-06]</td>\n",
       "    </tr>\n",
       "    <tr>\n",
       "      <th>102</th>\n",
       "      <td>native-country_ Taiwan</td>\n",
       "      <td>[1.35886798269e-06]</td>\n",
       "    </tr>\n",
       "    <tr>\n",
       "      <th>103</th>\n",
       "      <td>native-country_ Thailand</td>\n",
       "      <td>[-2.93701306133e-07]</td>\n",
       "    </tr>\n",
       "    <tr>\n",
       "      <th>104</th>\n",
       "      <td>native-country_ Trinadad&amp;Tobago</td>\n",
       "      <td>[-4.17161880064e-07]</td>\n",
       "    </tr>\n",
       "    <tr>\n",
       "      <th>105</th>\n",
       "      <td>native-country_ United-States</td>\n",
       "      <td>[-0.000319241292464]</td>\n",
       "    </tr>\n",
       "    <tr>\n",
       "      <th>106</th>\n",
       "      <td>native-country_ Vietnam</td>\n",
       "      <td>[-3.75996808604e-06]</td>\n",
       "    </tr>\n",
       "    <tr>\n",
       "      <th>107</th>\n",
       "      <td>native-country_ Yugoslavia</td>\n",
       "      <td>[5.67019634867e-07]</td>\n",
       "    </tr>\n",
       "  </tbody>\n",
       "</table>\n",
       "</div>"
      ],
      "text/plain": [
       "                                              0                     1\n",
       "0                                           age   [-0.00609320797437]\n",
       "1                                        fnlwgt  [-4.13568723997e-06]\n",
       "2                                 education-num   [-0.00144070454516]\n",
       "3                                  captial-gain   [0.000333587402939]\n",
       "4                                  captial-loss   [0.000755913511905]\n",
       "5                                hours-per-week   [-0.00700975655886]\n",
       "6                                  workclass_ ?   [-7.7390325164e-05]\n",
       "7                        workclass_ Federal-gov    [2.2057863878e-05]\n",
       "8                          workclass_ Local-gov   [2.65286191909e-06]\n",
       "9                       workclass_ Never-worked  [-3.41656754378e-07]\n",
       "10                           workclass_ Private  [-0.000333123598837]\n",
       "11                      workclass_ Self-emp-inc   [4.18620148482e-05]\n",
       "12                  workclass_ Self-emp-not-inc  [-1.72401663456e-05]\n",
       "13                         workclass_ State-gov  [-8.04793559984e-06]\n",
       "14                       workclass_ Without-pay  [-1.00622069766e-06]\n",
       "15                              education_ 10th  [-4.15673101521e-05]\n",
       "16                              education_ 11th  [-5.77997181639e-05]\n",
       "17                              education_ 12th  [-1.86991661701e-05]\n",
       "18                           education_ 1st-4th  [-6.29353063343e-06]\n",
       "19                           education_ 5th-6th  [-1.52635167218e-05]\n",
       "20                           education_ 7th-8th  [-3.21204021266e-05]\n",
       "21                               education_ 9th  [-2.43702277629e-05]\n",
       "22                        education_ Assoc-acdm  [-6.67866863534e-06]\n",
       "23                         education_ Assoc-voc  [-1.12869413665e-05]\n",
       "24                         education_ Bachelors   [0.000130384414641]\n",
       "25                         education_ Doctorate   [3.53657561772e-05]\n",
       "26                           education_ HS-grad  [-0.000284294708574]\n",
       "27                           education_ Masters    [8.1514023097e-05]\n",
       "28                         education_ Preschool  [-2.49519678026e-06]\n",
       "29                       education_ Prof-school   [4.09445733805e-05]\n",
       "30                      education_ Some-college  [-0.000157916542963]\n",
       "31                     marital-status_ Divorced  [-0.000185465873493]\n",
       "32            marital-status_ Married-AF-spouse   [1.09135713331e-06]\n",
       "33           marital-status_ Married-civ-spouse   [0.000472562856103]\n",
       "34        marital-status_ Married-spouse-absent   [-1.9164129025e-05]\n",
       "35                marital-status_ Never-married   [-0.00054554703288]\n",
       "36                    marital-status_ Separated   [-4.6533747141e-05]\n",
       "37                      marital-status_ Widowed  [-4.75205934513e-05]\n",
       "38                                occupation_ ?  [-7.77319819184e-05]\n",
       "39                     occupation_ Adm-clerical  [-0.000114373494806]\n",
       "40                     occupation_ Armed-Forces  [-1.24133586805e-07]\n",
       "41                     occupation_ Craft-repair  [-5.56283001079e-05]\n",
       "42                  occupation_ Exec-managerial   [0.000143354021304]\n",
       "43                  occupation_ Farming-fishing  [-4.28303723103e-05]\n",
       "44                occupation_ Handlers-cleaners  [-6.06308956433e-05]\n",
       "45                occupation_ Machine-op-inspct  [-6.24543470519e-05]\n",
       "46                    occupation_ Other-service  [-0.000168913847178]\n",
       "47                  occupation_ Priv-house-serv  [-8.16898296243e-06]\n",
       "48                   occupation_ Prof-specialty   [0.000119267447061]\n",
       "49                  occupation_ Protective-serv   [7.75349771478e-06]\n",
       "50                            occupation_ Sales  [-2.45964547515e-05]\n",
       "51                     occupation_ Tech-support   [4.79600938638e-06]\n",
       "52                 occupation_ Transport-moving  [-3.02953279033e-05]\n",
       "53                        relationship_ Husband   [0.000418378761182]\n",
       "54                  relationship_ Not-in-family  [-0.000343379936811]\n",
       "55                 relationship_ Other-relative  [-4.83645928863e-05]\n",
       "56                      relationship_ Own-child  [-0.000291907064507]\n",
       "57                      relationship_ Unmarried  [-0.000166528541422]\n",
       "58                           relationship_ Wife   [6.12242116917e-05]\n",
       "59                     race_ Amer-Indian-Eskimo   [-1.8254828382e-05]\n",
       "60                     race_ Asian-Pac-Islander  [-1.45565025199e-05]\n",
       "61                                  race_ Black  [-8.16560016127e-05]\n",
       "62                                  race_ Other  [-1.16852698459e-05]\n",
       "63                                  race_ White  [-0.000244424560393]\n",
       "64                                  sex_ Female  [-0.000426009762028]\n",
       "65                                    sex_ Male   [5.54325992741e-05]\n",
       "66                            native-country_ ?  [-5.41637033574e-06]\n",
       "67                     native-country_ Cambodia   [4.64775159125e-08]\n",
       "68                       native-country_ Canada   [5.00675732257e-07]\n",
       "69                        native-country_ China  [-9.90044371704e-07]\n",
       "70                     native-country_ Columbia  [-2.75642776583e-06]\n",
       "71                         native-country_ Cuba   [7.59562717221e-07]\n",
       "72           native-country_ Dominican-Republic  [-3.77937453694e-06]\n",
       "73                      native-country_ Ecuador  [-1.31215333996e-06]\n",
       "74                  native-country_ El-Salvador  [-3.64151698294e-06]\n",
       "75                      native-country_ England  [-3.27986044551e-09]\n",
       "76                       native-country_ France   [1.19538640432e-06]\n",
       "77                      native-country_ Germany    [1.5142342384e-06]\n",
       "78                       native-country_ Greece  [-4.65252653713e-07]\n",
       "79                    native-country_ Guatemala  [-2.17974519682e-06]\n",
       "80                        native-country_ Haiti   [-1.6978817449e-06]\n",
       "81           native-country_ Holand-Netherlands  [-2.33325415514e-07]\n",
       "82                     native-country_ Honduras  [-3.49455767611e-07]\n",
       "83                         native-country_ Hong    [1.3978450137e-07]\n",
       "84                      native-country_ Hungary  [-4.24656202063e-07]\n",
       "85                        native-country_ India    [1.8913534377e-06]\n",
       "86                         native-country_ Iran   [1.25192840032e-06]\n",
       "87                      native-country_ Ireland  [-9.02503091721e-07]\n",
       "88                        native-country_ Italy   [1.12412422619e-06]\n",
       "89                      native-country_ Jamaica   [-2.3559660195e-06]\n",
       "90                        native-country_ Japan   [5.64143512711e-07]\n",
       "91                         native-country_ Laos  [-2.97961337227e-07]\n",
       "92                       native-country_ Mexico  [-1.79802639032e-05]\n",
       "93                    native-country_ Nicaragua  [-1.13412538007e-06]\n",
       "94   native-country_ Outlying-US(Guam-USVI-etc)  [-7.95580757053e-07]\n",
       "95                         native-country_ Peru  [-1.07605395875e-06]\n",
       "96                  native-country_ Philippines  [-4.19157024651e-07]\n",
       "97                       native-country_ Poland  [-1.15180638023e-06]\n",
       "98                     native-country_ Portugal  [-2.14958988829e-06]\n",
       "99                  native-country_ Puerto-Rico  [-3.55992982085e-06]\n",
       "100                    native-country_ Scotland  [-9.07339066335e-08]\n",
       "101                       native-country_ South  [-2.61544167892e-06]\n",
       "102                      native-country_ Taiwan   [1.35886798269e-06]\n",
       "103                    native-country_ Thailand  [-2.93701306133e-07]\n",
       "104             native-country_ Trinadad&Tobago  [-4.17161880064e-07]\n",
       "105               native-country_ United-States  [-0.000319241292464]\n",
       "106                     native-country_ Vietnam  [-3.75996808604e-06]\n",
       "107                  native-country_ Yugoslavia   [5.67019634867e-07]"
      ]
     },
     "execution_count": 69,
     "metadata": {},
     "output_type": "execute_result"
    }
   ],
   "source": [
    "# examine coefficients\n",
    "pd.DataFrame(data=[train_X.columns, np.transpose(logreg.coef_)]).T"
   ]
  },
  {
   "cell_type": "code",
   "execution_count": 108,
   "metadata": {
    "collapsed": false
   },
   "outputs": [
    {
     "name": "stdout",
     "output_type": "stream",
     "text": [
      "[' <=50K' ' >50K' ' <=50K' ..., ' <=50K' ' <=50K' ' <=50K']\n",
      "[[ 0.82972248  0.17027752]\n",
      " [ 0.32208422  0.67791578]\n",
      " [ 0.84731339  0.15268661]\n",
      " ..., \n",
      " [ 0.7727109   0.2272891 ]\n",
      " [ 0.75179135  0.24820865]\n",
      " [ 0.73646451  0.26353549]]\n"
     ]
    }
   ],
   "source": [
    "predicted = logreg.predict(test_X)\n",
    "classes = logreg.classes_\n",
    "#predicted = np.array([int(x == classes[0]) for x in predicted])\n",
    "probs = logreg.predict_proba(test_X)\n",
    "print(predicted)\n",
    "print(probs)"
   ]
  },
  {
   "cell_type": "code",
   "execution_count": 101,
   "metadata": {
    "collapsed": false
   },
   "outputs": [
    {
     "name": "stdout",
     "output_type": "stream",
     "text": [
      "1.0397603664296673\n",
      "2.3741586238123222\n"
     ]
    }
   ],
   "source": [
    "# timing test\n",
    "import timeit\n",
    "t = 10000000\n",
    "start = timeit.default_timer()\n",
    "test1 = [x==1 for x in range(t)]\n",
    "print(timeit.default_timer()-start)\n",
    "\n",
    "start = timeit.default_timer()\n",
    "test2 = list(map(lambda x: x==1, range(t)))\n",
    "print(timeit.default_timer()-start)"
   ]
  },
  {
   "cell_type": "code",
   "execution_count": 106,
   "metadata": {
    "collapsed": false
   },
   "outputs": [],
   "source": [
    "test_y_bin = np.array([int(x==classes[0]) for x in test_y])"
   ]
  },
  {
   "cell_type": "code",
   "execution_count": 109,
   "metadata": {
    "collapsed": false
   },
   "outputs": [
    {
     "name": "stdout",
     "output_type": "stream",
     "text": [
      "0.798096115461\n",
      "0.587196869261\n"
     ]
    }
   ],
   "source": [
    "print(metrics.accuracy_score(test_y, predicted))\n",
    "print(metrics.roc_auc_score(test_y_bin, probs[:,0]))"
   ]
  },
  {
   "cell_type": "code",
   "execution_count": 110,
   "metadata": {
    "collapsed": false
   },
   "outputs": [
    {
     "name": "stdout",
     "output_type": "stream",
     "text": [
      "[[4780  151]\n",
      " [1164  418]]\n",
      "             precision    recall  f1-score   support\n",
      "\n",
      "      <=50K       0.80      0.97      0.88      4931\n",
      "       >50K       0.73      0.26      0.39      1582\n",
      "\n",
      "avg / total       0.79      0.80      0.76      6513\n",
      "\n"
     ]
    }
   ],
   "source": [
    "print(metrics.confusion_matrix(test_y, predicted))\n",
    "print(metrics.classification_report(test_y, predicted))"
   ]
  },
  {
   "cell_type": "code",
   "execution_count": 112,
   "metadata": {
    "collapsed": false
   },
   "outputs": [
    {
     "name": "stdout",
     "output_type": "stream",
     "text": [
      "[ 0.79577735  0.80038388  0.7915547   0.80115163  0.79769674  0.79846449\n",
      "  0.79232246  0.78963532  0.8049904   0.79869381]\n",
      "0.79706707822\n"
     ]
    }
   ],
   "source": [
    "# 10-fold cross-validation\n",
    "scores = cross_val_score(linear_model.LogisticRegression(), train_X, train_y, scoring='accuracy', cv=10)\n",
    "print(scores)\n",
    "print(scores.mean())"
   ]
  }
 ],
 "metadata": {
  "kernelspec": {
   "display_name": "Python [Root]",
   "language": "python",
   "name": "Python [Root]"
  },
  "language_info": {
   "codemirror_mode": {
    "name": "ipython",
    "version": 2
   },
   "file_extension": ".py",
   "mimetype": "text/x-python",
   "name": "python",
   "nbconvert_exporter": "python",
   "pygments_lexer": "ipython2",
   "version": "2.7.12"
  }
 },
 "nbformat": 4,
 "nbformat_minor": 0
}
